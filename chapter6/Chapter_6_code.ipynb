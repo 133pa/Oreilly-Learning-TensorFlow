{
 "cells": [
  {
   "cell_type": "markdown",
   "metadata": {},
   "source": [
    "# Chapter 6 code"
   ]
  },
  {
   "cell_type": "code",
   "execution_count": 1,
   "metadata": {
    "collapsed": true
   },
   "outputs": [],
   "source": [
    "import tensorflow as tf"
   ]
  },
  {
   "cell_type": "markdown",
   "metadata": {},
   "source": [
    "### Chapter 4 CNN - abstraction example"
   ]
  },
  {
   "cell_type": "code",
   "execution_count": 3,
   "metadata": {
    "collapsed": false
   },
   "outputs": [],
   "source": [
    "def weight_variable(shape): \n",
    "    initial = tf.truncated_normal(shape, stddev=0.1) \n",
    "    return tf.Variable(initial)\n",
    "\n",
    "def bias_variable(shape):\n",
    "    initial = tf.constant(0.1, shape=shape)\n",
    "    return tf.Variable(initial) \n",
    "\n",
    "def conv2d(x, W):\n",
    "    return tf.nn.conv2d(x, W, strides=[1, 1, 1, 1], \n",
    "                       padding='SAME')\n",
    "\n",
    "def conv_layer(input, shape): \n",
    "    W = weight_variable(shape) \n",
    "    b = bias_variable([shape[3]]) \n",
    "    h = tf.nn.relu(conv2d(input, W) + b) \n",
    "    hp = max_pool_2x2(h) \n",
    "    return hp\n",
    "\n",
    "\n",
    "def max_pool_2x2(x): \n",
    "    return tf.nn.max_pool(x, ksize=[1, 2, 2, 1], \n",
    "                         strides=[1, 2, 2, 1], padding='SAME')\n",
    "\n",
    "h1 = conv_layer(x_image, shape=[5, 5, 1, 32]) \n",
    "h2 = conv_layer(h1, shape=[5, 5, 32, 64])"
   ]
  },
  {
   "cell_type": "markdown",
   "metadata": {},
   "source": [
    "### contrib.learn preview"
   ]
  },
  {
   "cell_type": "code",
   "execution_count": null,
   "metadata": {
    "collapsed": true
   },
   "outputs": [],
   "source": [
    "regressor = learn.LinearRegressor(feature_columns=feature_columns,\n",
    "                                  optimizer=optimizer)\n",
    "regressor.fit(X, Y, steps=200, batch_size=506)"
   ]
  },
  {
   "cell_type": "markdown",
   "metadata": {},
   "source": [
    "### Verbose code example "
   ]
  },
  {
   "cell_type": "code",
   "execution_count": null,
   "metadata": {
    "collapsed": false
   },
   "outputs": [],
   "source": [
    "W1 = tf.truncated_normal([5, 5, 1, 32], stddev=0.1)\n",
    "b1 = tf.constant(0.1, shape=32)\n",
    "h1 = tf.nn.relu(conv2d(input, W1) + b1)\n",
    "hp1 = max_pool_2x2(h1)\n",
    "W2 = tf.truncated_normal([5, 5, 1, 64], stddev=0.1)\n",
    "b2 = tf.constant(0.1, shape=64)\n",
    "h2 = tf.nn.relu(conv2d(input, W2) + b2)\n",
    "hp2 = max_pool_2x2(h2)\n",
    "W3 = tf.truncated_normal([5, 5, 1, 64], stddev=0.1)\n",
    "b3 = tf.constant(0.1, shape=64)\n",
    "h3 = tf.nn.relu(conv2d(input, W3) + b3)\n",
    "hp3 = max_pool_2x2(h3)"
   ]
  },
  {
   "cell_type": "markdown",
   "metadata": {},
   "source": [
    "### Import line for contrib.learn"
   ]
  },
  {
   "cell_type": "code",
   "execution_count": 8,
   "metadata": {
    "collapsed": true
   },
   "outputs": [],
   "source": [
    "import tensorflow.contrib.learn.python.learn as learn\n"
   ]
  },
  {
   "cell_type": "markdown",
   "metadata": {},
   "source": [
    "### Importing Boston household data"
   ]
  },
  {
   "cell_type": "code",
   "execution_count": 9,
   "metadata": {
    "collapsed": true
   },
   "outputs": [],
   "source": [
    "import tensorflow as tf \n",
    "from sklearn import datasets, metrics, preprocessing\n",
    "boston = datasets.load_boston()\n",
    "x_data = preprocessing.StandardScaler().fit_transform(boston.data)\n",
    "y_data = boston.target\n",
    "y_data = y_data.reshape(y_data.shape + (1,))"
   ]
  },
  {
   "cell_type": "markdown",
   "metadata": {},
   "source": [
    "### Linear Regression model as in chapter 3"
   ]
  },
  {
   "cell_type": "code",
   "execution_count": 12,
   "metadata": {
    "collapsed": false
   },
   "outputs": [],
   "source": [
    "g = tf.Graph()\n",
    "wb_ = []\n",
    "with g.as_default():\n",
    "    x = tf.placeholder('float32',shape=None)\n",
    "    y_true = tf.placeholder('float32',shape=None)\n",
    "\n",
    "    w = tf.Variable(tf.truncated_normal([x_data.shape[1],1]),\n",
    "                    dtype='float32',name='weights')\n",
    "    b = tf.Variable(tf.truncated_normal([1,1]),\n",
    "                    dtype='float32',name='bias')\n",
    "\n",
    "    y_pred = tf.matmul(x,w) + b\n",
    "    loss = tf.reduce_mean(tf.square(y_true-y_pred))\n",
    "\n",
    "    optimizer = tf.train.GradientDescentOptimizer(0.1)  \n",
    "  \n",
    "    init = tf.global_variables_initializer() \n",
    "\n",
    "    with tf.Session() as sess:\n",
    "        sess.run(init)      \n",
    "        for step in range(200):\n",
    "            _,MSE = sess.run([train,loss],{x: x_data, \n",
    "                                           y_true: y_data})\n",
    "        wb_ = sess.run([w,b])\n",
    "\n",
    "print \"MSE = {}\".format(MSE)\n",
    "\n",
    "# Output: MSE = 21.9036388397"
   ]
  },
  {
   "cell_type": "markdown",
   "metadata": {},
   "source": [
    "### Now we perform the exact same process, but using the Estimator for linear regression offered by contrib.learn"
   ]
  },
  {
   "cell_type": "code",
   "execution_count": 15,
   "metadata": {
    "collapsed": false
   },
   "outputs": [],
   "source": [
    "import tensorflow.contrib.learn.python.learn as learn\n",
    "\n",
    "optimizer = tf.train.GradientDescentOptimizer(0.1)\n",
    "\n",
    "feature_columns = learn.infer_real_valued_columns_from_input(x_data)\n",
    "regressor = learn.LinearRegressor(feature_columns=feature_columns,\n",
    "                                  optimizer=optimizer)\n",
    "regressor.fit(x_data, boston.target, steps=200, batch_size=506)\n",
    "results = regressor.evaluate(x_data, boston.target, steps=1)\n",
    "\n",
    "print results\n",
    "\n",
    "# Output: {'loss': 21.902138, 'global_step': 200}"
   ]
  },
  {
   "cell_type": "markdown",
   "metadata": {},
   "source": [
    "### Made-up data generation"
   ]
  },
  {
   "cell_type": "code",
   "execution_count": 16,
   "metadata": {
    "collapsed": false
   },
   "outputs": [
    {
     "data": {
      "image/png": "[encoded data removed]",
      "text/plain": [
       "<matplotlib.figure.Figure at 0x7f4856fee5d0>"
      ]
     },
     "metadata": {},
     "output_type": "display_data"
    }
   ],
   "source": [
    "import matplotlib.pyplot as plt\n",
    "import pandas as pd\n",
    "import numpy as np\n",
    "\n",
    "N = 10000\n",
    "\n",
    "weight = np.random.randn(N)*5+70\n",
    "spec_id = np.random.randint(0,3,N)\n",
    "bias = [0.9,1,1.1]\n",
    "height = np.array([weight[i]/100 + bias[b] for i,b in enumerate(spec_id)])\n",
    "spec_name = ['Goblin','Human','ManBears']\n",
    "spec = [spec_name[s] for s in spec_id]\n",
    "\n",
    "\n",
    "\n",
    "\n",
    "colors = ['r','b','g']\n",
    "f,axarr = plt.subplots(1,2,figsize = [7,3])\n",
    "ax = axarr[0]\n",
    "for ii in range(3):\n",
    "    ax.hist(height[spec_id == ii],50,color=colors[ii],alpha=0.5)\n",
    "    ax.set_xlabel('Height')\n",
    "    ax.set_ylabel('Frequency')\n",
    "    ax.set_title('Heights distribution')\n",
    "ax.legend(['Goblins','Humans','ManBears'],loc=2, shadow=True,prop={'size':6})\n",
    "height = height + np.random.randn(N)*0.015\n",
    "\n",
    "\n",
    "df = pd.DataFrame({'Species':spec,'Weight':weight,'Height':height})\n",
    "\n",
    "\n",
    "ax = axarr[1]\n",
    "\n",
    "ax.plot(df['Height'],df['Weight'],'o',alpha=0.3,mfc='w',mec='b')\n",
    "ax.set_xlabel('Weight')\n",
    "ax.set_ylabel('Height')\n",
    "ax.set_title('Heights vs. Weights')\n",
    "    \n",
    "plt.tight_layout()\n",
    "plt.savefig('test.png', bbox_inches='tight', format='png', dpi=500)\n",
    "\n",
    "plt.show()"
   ]
  },
  {
   "cell_type": "markdown",
   "metadata": {},
   "source": [
    "### Create FeatureColumn"
   ]
  },
  {
   "cell_type": "code",
   "execution_count": 20,
   "metadata": {
    "collapsed": false
   },
   "outputs": [],
   "source": [
    "Weight = tf.contrib.layers.real_valued_column(\"Weight\")\n",
    "\n",
    "Species=tf.contrib.layers.sparse_column_with_keys(\n",
    "    column_name=\"Species\", keys=['Goblin','Human','ManBears'])"
   ]
  },
  {
   "cell_type": "markdown",
   "metadata": {},
   "source": [
    "### Create regressor instance"
   ]
  },
  {
   "cell_type": "code",
   "execution_count": 19,
   "metadata": {
    "collapsed": false
   },
   "outputs": [],
   "source": [
    "reg = tf.contrib.learn.LinearRegressor(feature_columns=[Weight,Species])"
   ]
  },
  {
   "cell_type": "markdown",
   "metadata": {},
   "source": [
    "### Create input function"
   ]
  },
  {
   "cell_type": "code",
   "execution_count": 21,
   "metadata": {
    "collapsed": true
   },
   "outputs": [],
   "source": [
    "def input_fn(df):\n",
    "    feature_cols = {}\n",
    "    feature_cols['Weight'] = tf.constant(df['Weight'].values)\n",
    "    \n",
    "    feature_cols['Species'] =  tf.SparseTensor(\n",
    "    indices=[[i, 0] for i in range(df['Species'].size)],\n",
    "    values=df['Species'].values,\n",
    "    shape=[df['Species'].size, 1])\n",
    "                    \n",
    "    labels = tf.constant(df['Height'].values)\n",
    "\n",
    "    return feature_cols, labels"
   ]
  },
  {
   "cell_type": "markdown",
   "metadata": {},
   "source": [
    "### Feed input function (as a function) and fit model"
   ]
  },
  {
   "cell_type": "code",
   "execution_count": 68,
   "metadata": {
    "collapsed": false
   },
   "outputs": [],
   "source": [
    "reg.fit(input_fn=lambda:input_fn(df), steps=50000)\n"
   ]
  },
  {
   "cell_type": "markdown",
   "metadata": {},
   "source": [
    "### Splitting the training process"
   ]
  },
  {
   "cell_type": "code",
   "execution_count": null,
   "metadata": {
    "collapsed": true
   },
   "outputs": [],
   "source": [
    "reg.fit(input_fn=lambda:input_fn(df), steps=10000)\n",
    "reg.fit(input_fn=lambda:input_fn(df), steps=10000)\n",
    "reg.fit(input_fn=lambda:input_fn(df), steps=10000)\n",
    "reg.fit(input_fn=lambda:input_fn(df), steps=10000)\n",
    "reg.fit(input_fn=lambda:input_fn(df), steps=10000)"
   ]
  },
  {
   "cell_type": "markdown",
   "metadata": {},
   "source": [
    "### Print estimated results"
   ]
  },
  {
   "cell_type": "code",
   "execution_count": 23,
   "metadata": {
    "collapsed": false
   },
   "outputs": [],
   "source": [
    "w_w = reg.get_variable_value('linear/Weight/weight')\n",
    "print 'Estimation for Weight: {}'.format(w_w)\n",
    "\n",
    "s_w = reg.get_variable_value('linear/Species/weights')\n",
    "b = reg.get_variable_value('linear/bias_weight')\n",
    "print 'Estimation for Species: {}'.format(s_w + b)"
   ]
  },
  {
   "cell_type": "markdown",
   "metadata": {},
   "source": [
    "### Load MNIST data"
   ]
  },
  {
   "cell_type": "code",
   "execution_count": 70,
   "metadata": {
    "collapsed": false
   },
   "outputs": [
    {
     "name": "stdout",
     "output_type": "stream",
     "text": [
      "Successfully downloaded train-images-idx3-ubyte.gz 9912422 bytes.\n",
      "Extracting /tmp/data/train-images-idx3-ubyte.gz\n",
      "Successfully downloaded train-labels-idx1-ubyte.gz 28881 bytes.\n",
      "Extracting /tmp/data/train-labels-idx1-ubyte.gz\n",
      "Successfully downloaded t10k-images-idx3-ubyte.gz 1648877 bytes.\n",
      "Extracting /tmp/data/t10k-images-idx3-ubyte.gz\n",
      "Successfully downloaded t10k-labels-idx1-ubyte.gz 4542 bytes.\n",
      "Extracting /tmp/data/t10k-labels-idx1-ubyte.gz\n"
     ]
    }
   ],
   "source": [
    "from tensorflow.examples.tutorials.mnist import input_data\n",
    "import numpy as np\n",
    "DATA_DIR = '/tmp/data'\n",
    "NUM_STEPS = 1000\n",
    "MINIBATCH_SIZE = 100\n",
    "data = input_data.read_data_sets(DATA_DIR, one_hot=False)\n",
    "x_data, y_data = data.train.images,np.int64(data.train.labels)"
   ]
  },
  {
   "cell_type": "markdown",
   "metadata": {},
   "source": [
    "### Optimize using contrib"
   ]
  },
  {
   "cell_type": "code",
   "execution_count": 73,
   "metadata": {
    "collapsed": false
   },
   "outputs": [],
   "source": [
    "optimizer = tf.train.GradientDescentOptimizer(0.5)\n",
    "feature_columns = learn.infer_real_valued_columns_from_input(x_data)\n",
    "\n",
    "lin_class = learn.LinearClassifier(feature_columns=feature_columns,optimizer=optimizer,n_classes=10)\n",
    "\n",
    "lin_class.fit(x_data, y_data, steps=NUM_STEPS, \n",
    "           batch_size=MINIBATCH_SIZE)\n",
    "results = lin_class.evaluate(x_data, y_data, steps=1)\n",
    "\n",
    "\n",
    "\n",
    "# Output: INFO:tensorflow:Saving evaluation summary for step 1000: \n",
    "#                         accuracy = 0.92, loss = 0.28606"
   ]
  },
  {
   "cell_type": "markdown",
   "metadata": {},
   "source": [
    "## Adding TensorBoard"
   ]
  },
  {
   "cell_type": "markdown",
   "metadata": {},
   "source": [
    "### Setting severity level"
   ]
  },
  {
   "cell_type": "code",
   "execution_count": 74,
   "metadata": {
    "collapsed": true
   },
   "outputs": [],
   "source": [
    "tf.logging.set_verbosity(tf.logging.INFO)"
   ]
  },
  {
   "cell_type": "markdown",
   "metadata": {},
   "source": [
    "### Set validation metrics"
   ]
  },
  {
   "cell_type": "code",
   "execution_count": 76,
   "metadata": {
    "collapsed": true
   },
   "outputs": [],
   "source": [
    "from tensorflow.contrib.learn.python.learn.metric_spec import MetricSpec\n",
    "\n",
    "validation_metrics = {\n",
    "    \"accuracy\" : MetricSpec(\n",
    "        metric_fn=tf.contrib.metrics.streaming_accuracy,\n",
    "        prediction_key=\"classes\"),\n",
    "    \"precision\" : MetricSpec(\n",
    "        metric_fn=tf.contrib.metrics.streaming_precision,\n",
    "        prediction_key=\"classes\"),\n",
    "    \"recall\" : MetricSpec(\n",
    "        metric_fn=tf.contrib.metrics.streaming_recall,\n",
    "        prediction_key=\"classes\"),\n",
    "    \"mean\" : MetricSpec(\n",
    "        metric_fn=tf.contrib.metrics.streaming_mean,\n",
    "        prediction_key=\"classes\"),\n",
    "    \"abs_error\" : MetricSpec(\n",
    "        metric_fn=tf.contrib.metrics.streaming_mean_absolute_error,\n",
    "        prediction_key=\"classes\")\n",
    "        }"
   ]
  },
  {
   "cell_type": "markdown",
   "metadata": {},
   "source": [
    "### Configure the \"ValidationMonitor"
   ]
  },
  {
   "cell_type": "code",
   "execution_count": 25,
   "metadata": {
    "collapsed": false
   },
   "outputs": [],
   "source": [
    "validation_monitor = tf.contrib.learn.monitors.ValidationMonitor(\n",
    "    data.test.images,\n",
    "    np.int64(data.test.labels),\n",
    "    every_n_steps=100,\n",
    "    metrics=validation_metrics)"
   ]
  },
  {
   "cell_type": "markdown",
   "metadata": {},
   "source": [
    "### INstantiating classifier"
   ]
  },
  {
   "cell_type": "code",
   "execution_count": 26,
   "metadata": {
    "collapsed": false
   },
   "outputs": [],
   "source": [
    "optimizer = tf.train.GradientDescentOptimizer(0.5)\n",
    "feature_columns = learn.infer_real_valued_columns_from_input(x_data)\n",
    "classifier = learn.LinearClassifier(feature_columns=feature_columns,\n",
    "               optimizer=optimizer,\n",
    "               n_classes=10,\n",
    "               model_dir=\"MNIST_contrib/\",\n",
    "               config=tf.contrib.learn.RunConfig(save_checkpoints_secs=1))\n"
   ]
  },
  {
   "cell_type": "markdown",
   "metadata": {},
   "source": [
    "### Fit and get informative outputs"
   ]
  },
  {
   "cell_type": "code",
   "execution_count": 81,
   "metadata": {
    "collapsed": false
   },
   "outputs": [],
   "source": [
    "\n",
    "classifier.fit(x_data, y_data, steps=NUM_STEPS, batch_size=MINIBATCH_SIZE,\n",
    "              monitors=[validation_monitor])\n",
    "\n",
    "# Output: \n",
    "# INFO:tensorflow:Saving evaluation summary for step 1: \n",
    "# abs_error = 2.9007, \n",
    "# accuracy = 0.3647, \n",
    "# loss = 1.90781, \n",
    "# mean = 4.67392, \n",
    "# precision = 1.0, \n",
    "# recall = 0.99793\n",
    "\n",
    "# INFO:tensorflow:Saving evaluation summary for step 101: \n",
    "# abs_error = 0.4103, \n",
    "# accuracy = 0.894, \n",
    "# loss = 0.387592, \n",
    "# mean = 6.09603, \n",
    "# precision = 1.0, \n",
    "# recall = 1.0\n",
    "\n",
    "# INFO:tensorflow:Saving evaluation summary for step 901: \n",
    "# abs_error = 0.2949, \n",
    "# accuracy = 0.9215, \n",
    "# loss = 0.288098, \n",
    "# mean = 6.14309, \n",
    "# precision = 1.0, \n",
    "# recall = 1.0"
   ]
  },
  {
   "cell_type": "markdown",
   "metadata": {},
   "source": [
    "### Early stopping"
   ]
  },
  {
   "cell_type": "code",
   "execution_count": 82,
   "metadata": {
    "collapsed": false
   },
   "outputs": [
    {
     "name": "stdout",
     "output_type": "stream",
     "text": [
      "WARNING:tensorflow:From /usr/local/lib/python2.7/dist-packages/tensorflow/contrib/learn/python/learn/monitors.py:320 in __init__.: __init__ (from tensorflow.contrib.learn.python.learn.monitors) is deprecated and will be removed after 2016-12-05.\n",
      "Instructions for updating:\n",
      "Monitors are deprecated. Please use tf.train.SessionRunHook.\n"
     ]
    }
   ],
   "source": [
    "  validation_monitor = tf.contrib.learn.monitors.ValidationMonitor(\n",
    "    data.test.images,\n",
    "    np.int64(data.test.labels),\n",
    "    every_n_steps=100,\n",
    "    metrics=validation_metrics,\n",
    "    early_stopping_metric=\"accuracy\",\n",
    "    early_stopping_metric_minimize=False,\n",
    "    early_stopping_rounds=300)"
   ]
  },
  {
   "cell_type": "markdown",
   "metadata": {},
   "source": [
    "## CNN using contrib.learn"
   ]
  },
  {
   "cell_type": "markdown",
   "metadata": {},
   "source": [
    "### Reshape MNIST data"
   ]
  },
  {
   "cell_type": "code",
   "execution_count": 84,
   "metadata": {
    "collapsed": false
   },
   "outputs": [],
   "source": [
    "x_image = tf.reshape(x_data, [-1, 28, 28, 1])\n"
   ]
  },
  {
   "cell_type": "markdown",
   "metadata": {},
   "source": [
    "### 2d convolution"
   ]
  },
  {
   "cell_type": "code",
   "execution_count": 94,
   "metadata": {
    "collapsed": false
   },
   "outputs": [],
   "source": [
    "from tensorflow.contrib import layers\n",
    "\n",
    "\n",
    "conv1 = layers.convolution2d(x_image, 32, [5,5],\n",
    "            activation_fn=tf.nn.relu,\n",
    "            biases_initializer=tf.constant_initializer(0.1),\n",
    "            weights_initializer=tf.truncated_normal_initializer(stddev=0.1))"
   ]
  },
  {
   "cell_type": "markdown",
   "metadata": {},
   "source": [
    "### Pooling"
   ]
  },
  {
   "cell_type": "code",
   "execution_count": 89,
   "metadata": {
    "collapsed": false
   },
   "outputs": [],
   "source": [
    " pool1 = layers.max_pool2d(conv1, [2,2])\n"
   ]
  },
  {
   "cell_type": "markdown",
   "metadata": {},
   "source": [
    "### Flatten data and fully connected layer"
   ]
  },
  {
   "cell_type": "code",
   "execution_count": 91,
   "metadata": {
    "collapsed": true
   },
   "outputs": [],
   "source": [
    "pool2_flat = tf.reshape(pool2, [-1, 7*7*64]) \n",
    "fc1 = layers.fully_connected(pool2_flat, 1024,\n",
    "          activation_fn=tf.nn.relu,\n",
    "          biases_initializer=tf.constant_initializer(0.1),\n",
    "          weights_initializer=tf.truncated_normal_initializer(stddev=0.1))"
   ]
  },
  {
   "cell_type": "markdown",
   "metadata": {},
   "source": [
    "### Set dropouts and another fully connected"
   ]
  },
  {
   "cell_type": "code",
   "execution_count": 96,
   "metadata": {
    "collapsed": false
   },
   "outputs": [],
   "source": [
    "fc1_drop = layers.dropout(fc1, keep_prob=params[\"dropout\"], \n",
    "                            is_training=(mode == 'train')) \n",
    "y_conv = layers.fully_connected(fc1_drop, 10, activation_fn=None)"
   ]
  },
  {
   "cell_type": "markdown",
   "metadata": {},
   "source": [
    "### Full model code"
   ]
  },
  {
   "cell_type": "code",
   "execution_count": 100,
   "metadata": {
    "collapsed": false
   },
   "outputs": [],
   "source": [
    "def model_fn(x, target, mode, params):\n",
    "    y_ = tf.cast(target, tf.float32)\n",
    "    x_image = tf.reshape(x, [-1, 28, 28, 1])\n",
    "\n",
    "    # Conv layer 1\n",
    "    conv1 = layers.convolution2d(x_image, 32, [5,5],\n",
    "                activation_fn=tf.nn.relu,\n",
    "                biases_initializer=tf.constant_initializer(0.1),\n",
    "                weights_initializer=tf.truncated_normal_initializer(stddev=0.1))\n",
    "    pool1 = layers.max_pool2d(conv1, [2,2])\n",
    "\n",
    "    # Conv layer 2\n",
    "    conv2 = layers.convolution2d(pool1, 64, [5,5],\n",
    "                activation_fn=tf.nn.relu,\n",
    "                biases_initializer=tf.constant_initializer(0.1),\n",
    "                weights_initializer=tf.truncated_normal_initializer(stddev=0.1))\n",
    "    pool2 = layers.max_pool2d(conv2, [2,2])\n",
    "\n",
    "    # FC layer\n",
    "    pool2_flat = tf.reshape(pool2, [-1, 7*7*64])\n",
    "    fc1 = layers.fully_connected(pool2_flat, 1024,\n",
    "              activation_fn=tf.nn.relu,\n",
    "              biases_initializer=tf.constant_initializer(0.1),\n",
    "              weights_initializer=tf.truncated_normal_initializer(stddev=0.1))\n",
    "    fc1_drop = layers.dropout(fc1, keep_prob=params[\"dropout\"],\n",
    "        is_training=(mode == 'train'))\n",
    "\n",
    "    # readout layer\n",
    "    y_conv = layers.fully_connected(fc1_drop, 10, activation_fn=None)\n",
    "\n",
    "    cross_entropy = tf.reduce_mean(\n",
    "        tf.nn.softmax_cross_entropy_with_logits(y_conv, y_))\n",
    "    train_op = tf.contrib.layers.optimize_loss(\n",
    "        loss=cross_entropy,\n",
    "        global_step=tf.contrib.framework.get_global_step(),\n",
    "        learning_rate=params[\"learning_rate\"],\n",
    "        optimizer=\"Adam\")\n",
    "\n",
    "    predictions = tf.argmax(y_conv, 1)\n",
    "    return predictions, cross_entropy, train_op\n"
   ]
  },
  {
   "cell_type": "markdown",
   "metadata": {},
   "source": [
    "### Run model"
   ]
  },
  {
   "cell_type": "code",
   "execution_count": 118,
   "metadata": {
    "collapsed": false
   },
   "outputs": [],
   "source": [
    "from tensorflow.examples.tutorials.mnist import input_data\n",
    "from tensorflow.contrib import layers\n",
    "\n",
    "data = input_data.read_data_sets(DATA_DIR, one_hot=True)\n",
    "x_data, y_data = data.train.images,np.int32(data.train.labels)\n",
    "\n",
    "\n",
    "model_params = {\"learning_rate\": 1e-4, \"dropout\": 0.5}\n",
    "\n",
    "CNN = tf.contrib.learn.Estimator(\n",
    "    model_fn=model_fn, params=model_params)\n",
    "\n",
    "print(\"Starting training for %s steps max\" % 5000)\n",
    "CNN.fit(x=data.train.images,\n",
    "        y=data.train.labels, batch_size=50,\n",
    "        max_steps=5000)\n",
    "\n"
   ]
  },
  {
   "cell_type": "markdown",
   "metadata": {},
   "source": [
    "### Print results"
   ]
  },
  {
   "cell_type": "code",
   "execution_count": 117,
   "metadata": {
    "collapsed": false
   },
   "outputs": [],
   "source": [
    "test_acc = 0\n",
    "for ii in range(5):\n",
    "    batch = data.test.next_batch(2000)\n",
    "    predictions = list(CNN.predict(batch[0], as_iterable=True))\n",
    "    test_acc = test_acc + (np.argmax(batch[1],1) == predictions).mean()\n",
    "\n",
    "print test_acc/5\n",
    "\n",
    "# output: 0.9872"
   ]
  },
  {
   "cell_type": "markdown",
   "metadata": {},
   "source": [
    "## TFLearn"
   ]
  },
  {
   "cell_type": "code",
   "execution_count": null,
   "metadata": {
    "collapsed": true
   },
   "outputs": [],
   "source": [
    "import tflearn\n"
   ]
  },
  {
   "cell_type": "markdown",
   "metadata": {},
   "source": [
    "### CNN"
   ]
  },
  {
   "cell_type": "code",
   "execution_count": 2,
   "metadata": {
    "collapsed": false
   },
   "outputs": [],
   "source": [
    "import tflearn\n",
    "from tflearn.layers.core import input_data, dropout, fully_connected\n",
    "from tflearn.layers.conv import conv_2d, max_pool_2d\n",
    "from tflearn.layers.normalization import local_response_normalization\n",
    "from tflearn.layers.estimator import regression\n",
    "\n",
    "# Data loading and basic trasformations\n",
    "import tflearn.datasets.mnist as mnist\n",
    "X, Y, testX, testY = mnist.load_data(one_hot=True)\n",
    "X = X.reshape([-1, 28, 28, 1])\n",
    "testX = testX.reshape([-1, 28, 28, 1])\n",
    "\n",
    "# Building the network\n",
    "CNN = input_data(shape=[None, 28, 28, 1], name='input')\n",
    "CNN = conv_2d(CNN, 32, 5, activation='relu', regularizer=\"L2\")\n",
    "CNN = max_pool_2d(CNN, 2)\n",
    "CNN = local_response_normalization(CNN)\n",
    "CNN = conv_2d(CNN, 64, 5, activation='relu', regularizer=\"L2\")\n",
    "CNN = max_pool_2d(CNN, 2)\n",
    "CNN = local_response_normalization(CNN)\n",
    "CNN = fully_connected(CNN, 1024, activation=None)\n",
    "CNN = dropout(CNN, 0.5)\n",
    "CNN = fully_connected(CNN, 10, activation='softmax')\n",
    "CNN = regression(CNN, optimizer='adam', learning_rate=0.0001,\n",
    "                     loss='categorical_crossentropy', name='target')\n",
    "\n",
    "# Training the network\n",
    "model = tflearn.DNN(CNN,tensorboard_verbose=0,tensorboard_dir = 'MNIST_tflearn_board/',\\\n",
    "                    checkpoint_path = 'MNIST_tflearn_checkpoints/checkpoint')\n",
    "model.fit({'input': X}, {'target': Y}, n_epoch=3, \n",
    "           validation_set=({'input': testX}, {'target': testY}),\n",
    "           snapshot_step=1000,show_metric=True, run_id='convnet_mnist') \n"
   ]
  },
  {
   "cell_type": "markdown",
   "metadata": {},
   "source": [
    "## CNN evaluation"
   ]
  },
  {
   "cell_type": "code",
   "execution_count": 121,
   "metadata": {
    "collapsed": false
   },
   "outputs": [
    {
     "name": "stdout",
     "output_type": "stream",
     "text": [
      "[0.98609999999999998]\n"
     ]
    }
   ],
   "source": [
    "evaluation = model.evaluate({'input': testX},{'target': testY})\n",
    "print(evaluation)\n",
    "\n",
    "# Output: [0.98619999999999997]"
   ]
  },
  {
   "cell_type": "markdown",
   "metadata": {},
   "source": [
    "### Predictions"
   ]
  },
  {
   "cell_type": "code",
   "execution_count": null,
   "metadata": {
    "collapsed": true
   },
   "outputs": [],
   "source": [
    "import numpy as np\n",
    "pred = model.predict({'input': testX})\n",
    "print((np.argmax(testY,1)==np.argmax(pred,1)).mean())\n",
    "\n",
    "# Output: 0.9862"
   ]
  },
  {
   "cell_type": "markdown",
   "metadata": {},
   "source": [
    "### RNN (IMDB data)"
   ]
  },
  {
   "cell_type": "code",
   "execution_count": 24,
   "metadata": {
    "collapsed": false
   },
   "outputs": [],
   "source": [
    "import tflearn\n",
    "from tflearn.data_utils import to_categorical, pad_sequences\n",
    "from tflearn.datasets import imdb\n",
    "\n",
    "# Load data\n",
    "train, test, _ = imdb.load_data(path='imdb.pkl', n_words=10000,\n",
    "                                valid_portion=0.1)\n",
    "X_train, Y_train = train\n",
    "X_test, Y_test = test\n",
    "\n",
    "# Sequence padding and Converting labels to binary vectors\n",
    "X_train = pad_sequences(X_train, maxlen=100, value=0.)\n",
    "X_test = pad_sequences(X_test, maxlen=100, value=0.)\n",
    "Y_train = to_categorical(Y_train, nb_classes=2)\n",
    "Y_test = to_categorical(Y_test, nb_classes=2)\n",
    "\n",
    "# Building a stacked LSTM network with two LSTM layers\n",
    "RNN = tflearn.input_data([None, 100])\n",
    "RNN = tflearn.embedding(RNN, input_dim=10000, output_dim=128)\n",
    "\n",
    "RNN = tflearn.lstm(RNN, 128, dropout=0.8)\n",
    "RNN = tflearn.fully_connected(RNN, 2, activation='softmax')\n",
    "RNN = tflearn.regression(RNN, optimizer='adam', learning_rate=0.001,\n",
    "                         loss='categorical_crossentropy')\n",
    "\n",
    "# Training the network\n",
    "model = tflearn.DNN(RNN, tensorboard_verbose=0)\n",
    "model.fit(X_train, Y_train, validation_set=(X_test, Y_test),\n",
    "                                show_metric=True, batch_size=32)\n"
   ]
  }
 ],
 "metadata": {
  "anaconda-cloud": {},
  "kernelspec": {
   "display_name": "Python [default]",
   "language": "python",
   "name": "python2"
  },
  "language_info": {
   "codemirror_mode": {
    "name": "ipython",
    "version": 2
   },
   "file_extension": ".py",
   "mimetype": "text/x-python",
   "name": "python",
   "nbconvert_exporter": "python",
   "pygments_lexer": "ipython2",
   "version": "2.7.12"
  }
 },
 "nbformat": 4,
 "nbformat_minor": 1
}
