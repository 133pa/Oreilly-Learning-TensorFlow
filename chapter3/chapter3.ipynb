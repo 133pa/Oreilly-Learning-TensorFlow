{
 "cells": [
  {
   "cell_type": "code",
   "execution_count": 1,
   "metadata": {
    "collapsed": false
   },
   "outputs": [
    {
     "name": "stdout",
     "output_type": "stream",
     "text": [
      "outs = 5\n"
     ]
    }
   ],
   "source": [
    "import tensorflow as tf \n",
    "\n",
    "a = tf.constant(5) \n",
    "b = tf.constant(2)\n",
    "c = tf.constant(3)\n",
    "\n",
    "d = tf.mul(a,b) \n",
    "e = tf.add(c,b) \n",
    "\n",
    "f = tf.sub(d,e) \n",
    "\n",
    "sess = tf.Session() \n",
    "outs = sess.run(f) \n",
    "sess.close() \n",
    "\n",
    "print \"outs = {}\".format(outs)"
   ]
  },
  {
   "cell_type": "code",
   "execution_count": 2,
   "metadata": {
    "collapsed": false
   },
   "outputs": [
    {
     "name": "stdout",
     "output_type": "stream",
     "text": [
      "<tensorflow.python.framework.ops.Graph object at 0x7f90506d0e10>\n"
     ]
    }
   ],
   "source": [
    "g = tf.Graph() \n",
    "print g"
   ]
  },
  {
   "cell_type": "code",
   "execution_count": 3,
   "metadata": {
    "collapsed": false
   },
   "outputs": [
    {
     "name": "stdout",
     "output_type": "stream",
     "text": [
      "<tensorflow.python.framework.ops.Graph object at 0x7f90506df5d0>\n",
      "<tensorflow.python.framework.ops.Graph object at 0x7f90506df8d0>\n",
      "<tensorflow.python.framework.ops.Graph object at 0x7f90506df8d0>\n",
      "False\n",
      "True\n"
     ]
    }
   ],
   "source": [
    "g = tf.Graph() \n",
    "print g\n",
    "\n",
    "a = tf.constant(5)  \n",
    "print a.graph \n",
    "\n",
    "print tf.get_default_graph() \n",
    "\n",
    "print a.graph is g\n",
    "print a.graph is tf.get_default_graph()"
   ]
  },
  {
   "cell_type": "code",
   "execution_count": 4,
   "metadata": {
    "collapsed": false
   },
   "outputs": [
    {
     "name": "stdout",
     "output_type": "stream",
     "text": [
      "True\n",
      "False\n",
      "True\n"
     ]
    }
   ],
   "source": [
    "g1 = tf.get_default_graph() \n",
    "g2 = tf.Graph() \n",
    "\n",
    "print g1 is tf.get_default_graph()\n",
    "\n",
    "with g2.as_default(): \n",
    "    print g1 is tf.get_default_graph()\n",
    "\n",
    "print g1 is tf.get_default_graph()"
   ]
  },
  {
   "cell_type": "code",
   "execution_count": 6,
   "metadata": {
    "collapsed": false
   },
   "outputs": [
    {
     "name": "stdout",
     "output_type": "stream",
     "text": [
      "outs = [5, 2, 3, 10, 5, 5]\n"
     ]
    }
   ],
   "source": [
    "sess = tf.Session()\n",
    "fetches = [a,b,c,d,e,f]\n",
    "outs = sess.run(fetches) \n",
    "sess.close()\n",
    "print \"outs = {}\".format(outs)"
   ]
  },
  {
   "cell_type": "code",
   "execution_count": 7,
   "metadata": {
    "collapsed": false
   },
   "outputs": [
    {
     "name": "stdout",
     "output_type": "stream",
     "text": [
      "Tensor(\"Const_4:0\", shape=(), dtype=float32)\n"
     ]
    }
   ],
   "source": [
    "c = tf.constant(4.0) \n",
    "print c"
   ]
  },
  {
   "cell_type": "code",
   "execution_count": 8,
   "metadata": {
    "collapsed": false
   },
   "outputs": [
    {
     "name": "stdout",
     "output_type": "stream",
     "text": [
      "Tensor(\"Const_5:0\", shape=(), dtype=float64)\n",
      "<dtype: 'float64'>\n"
     ]
    }
   ],
   "source": [
    "c = tf.constant(4.0, dtype='float64') \n",
    "print c\n",
    "print c.dtype"
   ]
  },
  {
   "cell_type": "code",
   "execution_count": 9,
   "metadata": {
    "collapsed": false
   },
   "outputs": [
    {
     "name": "stdout",
     "output_type": "stream",
     "text": [
      "With Python List: (2, 3)\n",
      "With Numpy array: (2, 3)\n",
      "3d list: (2, 2, 3)\n"
     ]
    }
   ],
   "source": [
    "import numpy as np \n",
    "\n",
    "c = tf.constant([[1,2,3],[4,5,6]]) \n",
    "print \"With Python List: {}\".format(c.get_shape())\n",
    "\n",
    "c = tf.constant(np.array([[1,2,3],[4,5,6]])) \n",
    "print \"With Numpy array: {}\".format(c.get_shape())\n",
    "\n",
    "c = tf.constant([[[1,2,3], [4,5,6]], [[1,1,1], [2,2,2]]]) \n",
    "print \"3d list: {}\".format(c.get_shape())"
   ]
  },
  {
   "cell_type": "code",
   "execution_count": 11,
   "metadata": {
    "collapsed": false
   },
   "outputs": [
    {
     "name": "stdout",
     "output_type": "stream",
     "text": [
      "(3, 2, 2)\n",
      "[[[13 13]\n",
      "  [13 13]]\n",
      "\n",
      " [[13 13]\n",
      "  [13 13]]\n",
      "\n",
      " [[13 13]\n",
      "  [13 13]]]\n"
     ]
    }
   ],
   "source": [
    "c = tf.fill((3,2,2), 13) \n",
    "print c.get_shape()\n",
    "sess = tf.Session() \n",
    "print sess.run(c) \n",
    "sess.close()"
   ]
  },
  {
   "cell_type": "code",
   "execution_count": 12,
   "metadata": {
    "collapsed": false
   },
   "outputs": [
    {
     "name": "stdout",
     "output_type": "stream",
     "text": [
      "(3, 3)\n",
      "[[ 0.30811131 -0.68112433 -1.09835541]\n",
      " [-0.75694317  0.91098231  0.30430576]\n",
      " [ 0.86925286  0.54640049  0.48557368]]\n"
     ]
    }
   ],
   "source": [
    "c = tf.random_normal((3,3), mean=0.0, stddev=1.0) \n",
    "print c.get_shape()\n",
    "sess = tf.Session() \n",
    "print sess.run(c) \n",
    "sess.close()"
   ]
  },
  {
   "cell_type": "code",
   "execution_count": 13,
   "metadata": {
    "collapsed": false
   },
   "outputs": [
    {
     "name": "stdout",
     "output_type": "stream",
     "text": [
      "(5,)\n",
      "[ 0.  1.  2.  3.  4.]\n"
     ]
    }
   ],
   "source": [
    "c = tf.linspace(0.0, 4.0, 5) \n",
    "print c.get_shape()\n",
    "sess = tf.Session() \n",
    "print sess.run(c) \n",
    "sess.close()"
   ]
  },
  {
   "cell_type": "code",
   "execution_count": 14,
   "metadata": {
    "collapsed": false
   },
   "outputs": [
    {
     "name": "stdout",
     "output_type": "stream",
     "text": [
      "outs = [[ 0.03245385]\n",
      " [ 0.01749875]\n",
      " [ 0.02511816]\n",
      " [ 0.17290431]\n",
      " [ 0.37496576]]\n"
     ]
    }
   ],
   "source": [
    "import tensorflow as tf\n",
    "\n",
    "with tf.Graph().as_default(): \n",
    "    x = tf.random_normal((5,10), mean=0.0, stddev=1.0) \n",
    "    w = tf.random_normal((10,1), mean=0.0, stddev=1.0) \n",
    "    b = tf.fill((5,1),-1.) \n",
    "    xw = tf.matmul(x,w) \n",
    "\n",
    "    xwb = xw + b \n",
    "    s = tf.sigmoid(xwb) \n",
    "\n",
    "    sess = tf.Session()             \n",
    "    outs = sess.run(s)\n",
    "    sess.close()\n",
    "\n",
    "print \"outs = {}\".format(outs)"
   ]
  },
  {
   "cell_type": "code",
   "execution_count": 15,
   "metadata": {
    "collapsed": false
   },
   "outputs": [
    {
     "name": "stdout",
     "output_type": "stream",
     "text": [
      "c:0\n",
      "c_1:0\n"
     ]
    }
   ],
   "source": [
    "with tf.Graph().as_default():\n",
    "    c1 = tf.constant(4,dtype='float64',name='c') \n",
    "    c2 = tf.constant(4,dtype='int32',name='c') \n",
    "print c1.name\n",
    "print c2.name"
   ]
  },
  {
   "cell_type": "code",
   "execution_count": 16,
   "metadata": {
    "collapsed": false
   },
   "outputs": [
    {
     "name": "stdout",
     "output_type": "stream",
     "text": [
      "c:0\n",
      "c:0\n"
     ]
    }
   ],
   "source": [
    "g1 = tf.Graph()\n",
    "with g1.as_default():\n",
    "    c1 = tf.constant(4,dtype='float64',name='c') \n",
    "print c1.name\n",
    "\n",
    "g2 = tf.Graph()\n",
    "with g2.as_default():\n",
    "    c2 = tf.constant(4,dtype='int32',name='c') \n",
    "\n",
    "print c2.name"
   ]
  },
  {
   "cell_type": "code",
   "execution_count": 28,
   "metadata": {
    "collapsed": false
   },
   "outputs": [
    {
     "name": "stdout",
     "output_type": "stream",
     "text": [
      "c:0 2/c:0 2/c_1:0\n"
     ]
    }
   ],
   "source": [
    "with tf.Graph().as_default():\n",
    "    c1 = tf.constant(4,dtype='float64',name='c') \n",
    "    with tf.name_scope(\"2\"):\n",
    "        c2 = tf.constant(4,dtype='int32',name='c') \n",
    "        c3 = tf.constant(4,dtype='float64',name='c')\n",
    "\n",
    "print c1.name\n",
    "print c2.name\n",
    "print c3.name"
   ]
  },
  {
   "cell_type": "code",
   "execution_count": 19,
   "metadata": {
    "collapsed": false
   },
   "outputs": [
    {
     "name": "stdout",
     "output_type": "stream",
     "text": [
      "Tensor(\"x_1/read:0\", shape=(), dtype=int32)\n",
      "75\n"
     ]
    }
   ],
   "source": [
    "c = tf.constant(15, name='c') \n",
    "x = tf.Variable(c*5, name='x') \n",
    "\n",
    "init = tf.global_variables_initializer()\n",
    "print x \n",
    "\n",
    "with tf.Session() as sess:\n",
    "    sess.run(init)\n",
    "    print sess.run(x)"
   ]
  },
  {
   "cell_type": "code",
   "execution_count": 29,
   "metadata": {
    "collapsed": false
   },
   "outputs": [
    {
     "name": "stdout",
     "output_type": "stream",
     "text": [
      "outs = -1.06374239922\n"
     ]
    }
   ],
   "source": [
    "import numpy as np\n",
    "import tensorflow as tf\n",
    "\n",
    "x_data = np.random.randn(5,10) \n",
    "w_data = np.random.randn(10,1) \n",
    "\n",
    "with tf.Graph().as_default():\n",
    "    x = tf.placeholder('float32',shape=(5,10))\n",
    "    w = tf.placeholder('float32',shape=(10,1))\n",
    "    b = tf.fill((5,1),-1.) \n",
    "    xw = tf.matmul(x,w)\n",
    "\n",
    "    xwb = xw + b\n",
    "    s = tf.reduce_max(xwb)\n",
    "    with tf.Session() as sess:\n",
    "        outs = sess.run(s,feed_dict={x: x_data,w: w_data}) \n",
    "\n",
    "print \"outs = {}\".format(outs)"
   ]
  },
  {
   "cell_type": "code",
   "execution_count": 30,
   "metadata": {
    "collapsed": false
   },
   "outputs": [],
   "source": [
    "x = tf.placeholder('float32',shape=None)\n",
    "w = tf.Variable([0.1,0.2,0.3],dtype='float32')\n",
    "b = tf.Variable(0.5,dtype='float32')\n",
    "\n",
    "y_pred = x*w + b"
   ]
  },
  {
   "cell_type": "code",
   "execution_count": 31,
   "metadata": {
    "collapsed": false
   },
   "outputs": [],
   "source": [
    "y_true = tf.placeholder('float32',shape=None)\n",
    "loss = tf.reduce_mean(tf.square(y_true-y_pred))"
   ]
  },
  {
   "cell_type": "code",
   "execution_count": 32,
   "metadata": {
    "collapsed": false
   },
   "outputs": [],
   "source": [
    "optimizer = tf.train.GradientDescentOptimizer(learning_rate=0.5)\n",
    "train = optimizer.minimize(loss)"
   ]
  },
  {
   "cell_type": "code",
   "execution_count": 33,
   "metadata": {
    "collapsed": true
   },
   "outputs": [],
   "source": [
    "import numpy as np\n",
    "\n",
    "# Create toy dataset \n",
    "x_data = np.random.randn(2000,3)\n",
    "w_real = [0.3,0.5,0.1]\n",
    "b_real = -0.2\n",
    "\n",
    "noise = np.random.randn(2000,1)*0.1\n",
    "y_data = x_data*w_real+ b_real + noise"
   ]
  },
  {
   "cell_type": "code",
   "execution_count": 27,
   "metadata": {
    "collapsed": false
   },
   "outputs": [
    {
     "name": "stdout",
     "output_type": "stream",
     "text": [
      "0 [array([ 0.1008704 ,  0.15766016,  0.0367507 ], dtype=float32), -0.19526303]\n",
      "5 [array([ 0.27653056,  0.44794244,  0.0957488 ], dtype=float32), -0.1969059]\n",
      "10 [array([ 0.29882082,  0.49121752,  0.10322051], dtype=float32), -0.19713061]\n",
      "15 [array([ 0.30164942,  0.49766889,  0.10416666], dtype=float32), -0.19716097]\n",
      "20 [array([ 0.30200836,  0.49863064,  0.10428645], dtype=float32), -0.1971651]\n",
      "25 [array([ 0.30205393,  0.49877402,  0.10430161], dtype=float32), -0.19716567]\n"
     ]
    }
   ],
   "source": [
    "import tensorflow as tf\n",
    "\n",
    "NUM_STEPS = 30\n",
    "\n",
    "with tf.Graph().as_default():\n",
    "    x = tf.placeholder('float32',shape=None)\n",
    "    y_true = tf.placeholder('float32',shape=None)\n",
    "\n",
    "    w = tf.Variable([0,0,0],dtype='float32')\n",
    "    b = tf.Variable(0,dtype='float32')\n",
    "\n",
    "    y_pred = x*w + b\n",
    "    loss = tf.reduce_mean(tf.square(y_true-y_pred))\n",
    "\n",
    "    optimizer = tf.train.GradientDescentOptimizer(0.5)\n",
    "    train = optimizer.minimize(loss)\n",
    "    \n",
    "    init = tf.global_variables_initializer()\n",
    "    \n",
    "    with tf.Session() as sess:\n",
    "        sess.run(init)      \n",
    "        for step in range(NUM_STEPS):\n",
    "            sess.run(train,{x: x_data, y_true: y_data})\n",
    "            if step % 5 == 0:\n",
    "                print step, sess.run([w,b])"
   ]
  },
  {
   "cell_type": "code",
   "execution_count": null,
   "metadata": {
    "collapsed": true
   },
   "outputs": [],
   "source": [
    ""
   ]
  }
 ],
 "metadata": {
  "anaconda-cloud": {},
  "kernelspec": {
   "display_name": "Python [default]",
   "language": "python",
   "name": "python2"
  },
  "language_info": {
   "codemirror_mode": {
    "name": "ipython",
    "version": 2.0
   },
   "file_extension": ".py",
   "mimetype": "text/x-python",
   "name": "python",
   "nbconvert_exporter": "python",
   "pygments_lexer": "ipython2",
   "version": "2.7.12"
  }
 },
 "nbformat": 4,
 "nbformat_minor": 0
}